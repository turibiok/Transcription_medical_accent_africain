{
 "cells": [
  {
   "cell_type": "code",
   "execution_count": null,
   "id": "8c8784ce",
   "metadata": {},
   "outputs": [],
   "source": [
    "# 📢 Texte → Audio avec Bark (accent africain)\n",
    "!pip install -q git+https://github.com/suno-ai/bark.git\n",
    "!pip install -q scipy torchaudio"
   ]
  },
  {
   "cell_type": "code",
   "execution_count": null,
   "id": "35973301",
   "metadata": {},
   "outputs": [],
   "source": [
    "from pathlib import Path\n",
    "from scipy.io.wavfile import write\n",
    "from bark import SAMPLE_RATE, generate_audio\n",
    "\n",
    "# 📁 Dossiers\n",
    "corpus_dir = Path(\"/content/corpus_textes\")\n",
    "output_dir = Path(\"/content/audio_from_corpus\")\n",
    "corpus_dir.mkdir(exist_ok=True)\n",
    "output_dir.mkdir(exist_ok=True)\n",
    "\n",
    "print(\"🔁 Place tes fichiers .txt dans le dossier /content/corpus_textes\")"
   ]
  },
  {
   "cell_type": "code",
   "execution_count": null,
   "id": "91677956",
   "metadata": {},
   "outputs": [],
   "source": [
    "# 🔁 Conversion texte vers audio Bark\n",
    "for txt_file in corpus_dir.glob(\"*.txt\"):\n",
    "    with open(txt_file, \"r\", encoding=\"utf-8\") as f:\n",
    "        texte = f.read().strip()\n",
    "\n",
    "    prompt = f\"African French accent, male voice. {texte}\"\n",
    "    audio_array = generate_audio(prompt)\n",
    "    output_path = output_dir / f\"{txt_file.stem}_bark.wav\"\n",
    "    write(output_path, SAMPLE_RATE, audio_array)\n",
    "    print(f\"✅ Audio généré : {output_path.name}\")\n",
    "\n",
    "print(\"🎉 Tous les textes ont été convertis en audio.\")"
   ]
  }
 ],
 "metadata": {
  "kernelspec": {
   "display_name": "Python 3",
   "name": "python3"
  }
 },
 "nbformat": 4,
 "nbformat_minor": 5
}
