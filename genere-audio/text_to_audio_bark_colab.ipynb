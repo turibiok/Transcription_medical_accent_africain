{
 "cells": [
  {
   "cell_type": "code",
   "execution_count": 1,
   "id": "8c8784ce",
   "metadata": {},
   "outputs": [
    {
     "name": "stdout",
     "output_type": "stream",
     "text": [
      "Note: you may need to restart the kernel to use updated packages.\n",
      "Note: you may need to restart the kernel to use updated packages.\n"
     ]
    }
   ],
   "source": [
    "# 📢 Texte → Audio avec Bark (accent africain)\n",
    "\n",
    "%pip install -q git+https://github.com/suno-ai/bark.git\n",
    "%pip install -q scipy torchaudio"
   ]
  },
  {
   "cell_type": "code",
   "execution_count": 2,
   "id": "3739a865",
   "metadata": {},
   "outputs": [
    {
     "name": "stdout",
     "output_type": "stream",
     "text": [
      "Requirement already satisfied: openai in c:\\users\\dell\\anaconda3\\lib\\site-packages (1.76.0)\n",
      "Requirement already satisfied: anyio<5,>=3.5.0 in c:\\users\\dell\\anaconda3\\lib\\site-packages (from openai) (4.2.0)\n",
      "Requirement already satisfied: distro<2,>=1.7.0 in c:\\users\\dell\\anaconda3\\lib\\site-packages (from openai) (1.9.0)\n",
      "Requirement already satisfied: httpx<1,>=0.23.0 in c:\\users\\dell\\anaconda3\\lib\\site-packages (from openai) (0.27.0)\n",
      "Requirement already satisfied: jiter<1,>=0.4.0 in c:\\users\\dell\\anaconda3\\lib\\site-packages (from openai) (0.9.0)\n",
      "Requirement already satisfied: pydantic<3,>=1.9.0 in c:\\users\\dell\\anaconda3\\lib\\site-packages (from openai) (2.8.2)\n",
      "Requirement already satisfied: sniffio in c:\\users\\dell\\anaconda3\\lib\\site-packages (from openai) (1.3.0)\n",
      "Requirement already satisfied: tqdm>4 in c:\\users\\dell\\anaconda3\\lib\\site-packages (from openai) (4.66.5)\n",
      "Requirement already satisfied: typing-extensions<5,>=4.11 in c:\\users\\dell\\anaconda3\\lib\\site-packages (from openai) (4.11.0)\n",
      "Requirement already satisfied: idna>=2.8 in c:\\users\\dell\\anaconda3\\lib\\site-packages (from anyio<5,>=3.5.0->openai) (3.7)\n",
      "Requirement already satisfied: certifi in c:\\users\\dell\\anaconda3\\lib\\site-packages (from httpx<1,>=0.23.0->openai) (2025.1.31)\n",
      "Requirement already satisfied: httpcore==1.* in c:\\users\\dell\\anaconda3\\lib\\site-packages (from httpx<1,>=0.23.0->openai) (1.0.2)\n",
      "Requirement already satisfied: h11<0.15,>=0.13 in c:\\users\\dell\\anaconda3\\lib\\site-packages (from httpcore==1.*->httpx<1,>=0.23.0->openai) (0.14.0)\n",
      "Requirement already satisfied: annotated-types>=0.4.0 in c:\\users\\dell\\anaconda3\\lib\\site-packages (from pydantic<3,>=1.9.0->openai) (0.6.0)\n",
      "Requirement already satisfied: pydantic-core==2.20.1 in c:\\users\\dell\\anaconda3\\lib\\site-packages (from pydantic<3,>=1.9.0->openai) (2.20.1)\n",
      "Requirement already satisfied: colorama in c:\\users\\dell\\anaconda3\\lib\\site-packages (from tqdm>4->openai) (0.4.6)\n",
      "Note: you may need to restart the kernel to use updated packages.\n"
     ]
    }
   ],
   "source": [
    "%pip install openai\n",
    "\n",
    "# Remove unused imports and redundant imports\n",
    "from bark import generate_audio\n"
   ]
  },
  {
   "cell_type": "code",
   "execution_count": 3,
   "id": "35973301",
   "metadata": {},
   "outputs": [
    {
     "name": "stdout",
     "output_type": "stream",
     "text": [
      "🔁 Place tes fichiers .txt dans le dossier /corpus_textes\n"
     ]
    }
   ],
   "source": [
    "from pathlib import Path\n",
    "from scipy.io.wavfile import write\n",
    "from bark import SAMPLE_RATE, generate_audio\n",
    "\n",
    "# 📁 Dossiers\n",
    "corpus_dir = Path(\"/corpus_textes\")\n",
    "output_dir = Path(\"/audio_from_corpus\")\n",
    "corpus_dir.mkdir(exist_ok=True)\n",
    "output_dir.mkdir(exist_ok=True)\n",
    "\n",
    "print(\"🔁 Place tes fichiers .txt dans le dossier /corpus_textes\")"
   ]
  },
  {
   "cell_type": "code",
   "execution_count": null,
   "id": "91677956",
   "metadata": {},
   "outputs": [
    {
     "name": "stdout",
     "output_type": "stream",
     "text": [
      "🎉 Tous les textes ont été convertis en audio.\n"
     ]
    }
   ],
   "source": [
    "# 🔁 Conversion texte vers audio avec Whisper et Bark\n",
    "from pyexpat import model\n",
    "\n",
    "\n",
    "for txt_file in corpus_dir.glob(\"*.txt\"):\n",
    "    with open(txt_file, \"r\", encoding=\"utf-8\") as f:\n",
    "        texte = f.read().strip()\n",
    "\n",
    "    # Utiliser Whisper pour transcrire le texte\n",
    "    result = model.transcribe(audio=None, task=\"transcribe\", language=\"fr\", initial_prompt=texte)\n",
    "    texte_transcrit = result[\"text\"]\n",
    "\n",
    "    # Préparer le prompt pour Bark\n",
    "    prompt = f\"African French accent, male voice. {texte}\"\n",
    "    audio_array = generate_audio(prompt)\n",
    "\n",
    "    # Sauvegarder l'audio généré\n",
    "    output_path = output_dir / f\"{txt_file.stem}_bark.wav\"\n",
    "    write(output_path, SAMPLE_RATE, (audio_array * 32767).astype(\"int16\"))\n",
    "    print(f\"✅ Audio généré : {output_path.name}\")\n",
    "\n",
    "print(\"🎉 Tous les textes ont été convertis en audio.\")\n"
   ]
  },
  {
   "cell_type": "code",
   "execution_count": null,
   "id": "3b2bd014",
   "metadata": {},
   "outputs": [],
   "source": []
  }
 ],
 "metadata": {
  "kernelspec": {
   "display_name": "base",
   "language": "python",
   "name": "python3"
  },
  "language_info": {
   "codemirror_mode": {
    "name": "ipython",
    "version": 3
   },
   "file_extension": ".py",
   "mimetype": "text/x-python",
   "name": "python",
   "nbconvert_exporter": "python",
   "pygments_lexer": "ipython3",
   "version": "3.12.7"
  }
 },
 "nbformat": 4,
 "nbformat_minor": 5
}
